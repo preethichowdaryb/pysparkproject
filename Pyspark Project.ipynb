{
 "cells": [
  {
   "cell_type": "code",
   "execution_count": 0,
   "metadata": {
    "application/vnd.databricks.v1+cell": {
     "cellMetadata": {
      "byteLimit": 2048000,
      "implicitDf": true,
      "rowLimit": 10000
     },
     "inputWidgets": {},
     "nuid": "9b85cb69-bfe9-453a-879b-3537044f75de",
     "showTitle": false,
     "tableResultSettingsMap": {},
     "title": ""
    }
   },
   "outputs": [],
   "source": [
    "%sql\n",
    "CREATE CATALOG IF NOT EXISTS analytics_catalog;\n",
    "\n",
    "CREATE SCHEMA IF NOT EXISTS analytics_catalog.retail_schema;\n",
    "\n",
    "CREATE VOLUME IF NOT EXISTS analytics_catalog.retail_schema.ecommerce_volume;\n",
    "\n",
    "CREATE VOLUME IF NOT EXISTS analytics_catalog.retail_schema.ecommerce_output;\n",
    "\n",
    "SHOW GRANT ON VOLUME analytics_catalog.retail_schema.ecommerce_output;"
   ]
  },
  {
   "cell_type": "code",
   "execution_count": 0,
   "metadata": {
    "application/vnd.databricks.v1+cell": {
     "cellMetadata": {
      "byteLimit": 2048000,
      "rowLimit": 10000
     },
     "inputWidgets": {},
     "nuid": "cb443b97-c69e-455c-b981-3094de8bb7ae",
     "showTitle": false,
     "tableResultSettingsMap": {},
     "title": ""
    }
   },
   "outputs": [],
   "source": [
    "from pyspark.sql import SparkSession\n",
    "from pyspark.sql.functions import col, expr, year, month, dayofmonth, when, count, rank\n",
    "from pyspark.sql.window import Window\n",
    "import time"
   ]
  },
  {
   "cell_type": "code",
   "execution_count": 0,
   "metadata": {
    "application/vnd.databricks.v1+cell": {
     "cellMetadata": {
      "byteLimit": 2048000,
      "rowLimit": 10000
     },
     "inputWidgets": {},
     "nuid": "993cd264-706b-40ec-baaf-89e4988027fd",
     "showTitle": false,
     "tableResultSettingsMap": {},
     "title": ""
    }
   },
   "outputs": [],
   "source": [
    "from pyspark.sql import SparkSession\n",
    "\n",
    "spark = SparkSession.builder \\\n",
    "    .appName(\"E-Commerce Data Pipeline\") \\\n",
    "    .getOrCreate()"
   ]
  },
  {
   "cell_type": "code",
   "execution_count": 0,
   "metadata": {
    "application/vnd.databricks.v1+cell": {
     "cellMetadata": {
      "byteLimit": 2048000,
      "rowLimit": 10000
     },
     "inputWidgets": {},
     "nuid": "60d596ab-cb7d-4c09-82fd-9ce1bde9a6d9",
     "showTitle": false,
     "tableResultSettingsMap": {},
     "title": ""
    }
   },
   "outputs": [],
   "source": [
    "ecom_df = spark.read.option(\"header\", True).option(\"inferSchema\", True).csv(\"dbfs:/Volumes/analytics_catalog/retail_schema/ecommerce_volume/ecommerce_transactions.csv\")\n",
    "region_df = spark.read.option(\"header\", True).option(\"inferSchema\", True).csv(\"dbfs:/Volumes/analytics_catalog/retail_schema/ecommerce_volume/country_region.csv\")"
   ]
  },
  {
   "cell_type": "code",
   "execution_count": 0,
   "metadata": {
    "application/vnd.databricks.v1+cell": {
     "cellMetadata": {
      "byteLimit": 2048000,
      "rowLimit": 10000
     },
     "inputWidgets": {},
     "nuid": "96f3f0ee-26ae-456e-8648-d53f0f8ed3de",
     "showTitle": false,
     "tableResultSettingsMap": {},
     "title": ""
    }
   },
   "outputs": [],
   "source": [
    "ecom_clean = ecom_df.dropDuplicates() \\\n",
    "    .filter(col(\"customer_id\").isNotNull()) \\\n",
    "    .filter(col(\"quantity\") > 0)"
   ]
  },
  {
   "cell_type": "code",
   "execution_count": 0,
   "metadata": {
    "application/vnd.databricks.v1+cell": {
     "cellMetadata": {
      "byteLimit": 2048000,
      "rowLimit": 10000
     },
     "inputWidgets": {},
     "nuid": "680441c4-8a84-405f-96b1-50813d034590",
     "showTitle": false,
     "tableResultSettingsMap": {},
     "title": ""
    }
   },
   "outputs": [],
   "source": [
    "ecom_enriched = ecom_clean.withColumn(\"order_value\", expr(\"quantity * unit_price\")) \\\n",
    "    .withColumn(\"year\", year(\"order_date\")) \\\n",
    "    .withColumn(\"month\", month(\"order_date\")) \\\n",
    "    .withColumn(\"day\", dayofmonth(\"order_date\"))\n",
    "ecom_enriched.show()"
   ]
  },
  {
   "cell_type": "code",
   "execution_count": 0,
   "metadata": {
    "application/vnd.databricks.v1+cell": {
     "cellMetadata": {
      "byteLimit": 2048000,
      "rowLimit": 10000
     },
     "inputWidgets": {},
     "nuid": "64e7415f-afa5-4956-bba0-21a8d53a7318",
     "showTitle": false,
     "tableResultSettingsMap": {},
     "title": ""
    }
   },
   "outputs": [],
   "source": [
    "country_revenue = ecom_enriched.groupBy(\"country\") \\\n",
    "    .sum(\"order_value\") \\\n",
    "    .withColumnRenamed(\"sum(order_value)\", \"total_revenue\")\n",
    "country_revenue.show()"
   ]
  },
  {
   "cell_type": "code",
   "execution_count": 0,
   "metadata": {
    "application/vnd.databricks.v1+cell": {
     "cellMetadata": {
      "byteLimit": 2048000,
      "rowLimit": 10000
     },
     "inputWidgets": {},
     "nuid": "c30ed943-85fe-47b2-a2d5-7fd56aa69b2e",
     "showTitle": false,
     "tableResultSettingsMap": {},
     "title": ""
    }
   },
   "outputs": [],
   "source": [
    "window_spec = Window.partitionBy(\"country\").orderBy(col(\"order_value\").desc())\n",
    "ranked_df = ecom_enriched.withColumn(\"rank\", rank().over(window_spec))\n",
    "ranked_df.show()\n",
    "\n",
    "top_customer = ranked_df.filter(col(\"rank\") == 1).select(\"country\", \"customer_id\", \"order_value\")\n",
    "top_customer.show()"
   ]
  },
  {
   "cell_type": "code",
   "execution_count": 0,
   "metadata": {
    "application/vnd.databricks.v1+cell": {
     "cellMetadata": {
      "byteLimit": 2048000,
      "rowLimit": 10000
     },
     "inputWidgets": {},
     "nuid": "c2cd2adb-ebc3-408f-a026-fad17de7f065",
     "showTitle": false,
     "tableResultSettingsMap": {},
     "title": ""
    }
   },
   "outputs": [],
   "source": [
    "region_joined = ecom_enriched.join(region_df, on=\"country\", how=\"left\")\n",
    "\n",
    "region_summary = region_joined.groupBy(\"region\") \\\n",
    "    .sum(\"order_value\") \\\n",
    "    .withColumnRenamed(\"sum(order_value)\", \"region_revenue\")\n",
    "region_summary.show()"
   ]
  },
  {
   "cell_type": "code",
   "execution_count": 0,
   "metadata": {
    "application/vnd.databricks.v1+cell": {
     "cellMetadata": {
      "byteLimit": 2048000,
      "rowLimit": 10000
     },
     "inputWidgets": {},
     "nuid": "55752123-6384-4bb1-8a74-541b3d6cef77",
     "showTitle": false,
     "tableResultSettingsMap": {},
     "title": ""
    }
   },
   "outputs": [],
   "source": [
    "monthly_pivot = ecom_enriched.groupBy(\"category\", \"month\") \\\n",
    "    .sum(\"order_value\") \\\n",
    "    .groupBy(\"category\") \\\n",
    "    .pivot(\"month\") \\\n",
    "    .sum(\"sum(order_value)\")\n",
    "monthly_pivot.show()"
   ]
  },
  {
   "cell_type": "code",
   "execution_count": 0,
   "metadata": {
    "application/vnd.databricks.v1+cell": {
     "cellMetadata": {
      "byteLimit": 2048000,
      "rowLimit": 10000
     },
     "inputWidgets": {},
     "nuid": "179430ed-a6aa-4633-bbf2-842fce4cc49b",
     "showTitle": false,
     "tableResultSettingsMap": {},
     "title": ""
    }
   },
   "outputs": [],
   "source": [
    "price_bands = ecom_enriched.withColumn(\"price_band\", when(col(\"order_value\") < 50, \"Low\")\n",
    "                                       .when(col(\"order_value\") < 200, \"Medium\")\n",
    "                                       .otherwise(\"High\")) \\\n",
    "                           .groupBy(\"price_band\").agg(count(\"*\").alias(\"count\"))\n",
    "price_bands.show()"
   ]
  },
  {
   "cell_type": "code",
   "execution_count": 0,
   "metadata": {
    "application/vnd.databricks.v1+cell": {
     "cellMetadata": {
      "byteLimit": 2048000,
      "rowLimit": 10000
     },
     "inputWidgets": {},
     "nuid": "238ddb78-7cd6-4ba8-9ae5-bba76a321e38",
     "showTitle": false,
     "tableResultSettingsMap": {},
     "title": ""
    }
   },
   "outputs": [],
   "source": [
    "# Approximate partition count from input\n",
    "print(\"Approx partition count (based on input files):\", len(ecom_enriched.inputFiles()))\n",
    "\n",
    "# Repartition safely (this works)\n",
    "ecom_repart = ecom_enriched.repartition(4)\n",
    "\n",
    "# Safe message without triggering .rdd\n",
    "print(\"Requested repartition to 4 partitions. (Note: Cannot verify exact count on serverless)\")"
   ]
  },
  {
   "cell_type": "code",
   "execution_count": 0,
   "metadata": {
    "application/vnd.databricks.v1+cell": {
     "cellMetadata": {
      "byteLimit": 2048000,
      "rowLimit": 10000
     },
     "inputWidgets": {},
     "nuid": "dfede608-bebc-44f8-b272-c2735d54be35",
     "showTitle": false,
     "tableResultSettingsMap": {},
     "title": ""
    }
   },
   "outputs": [],
   "source": [
    "# First run (cold execution)\n",
    "start = time.time()\n",
    "ecom_enriched.groupBy(\"customer_id\").sum(\"order_value\").collect()\n",
    "print(\"1st run (cold):\", time.time() - start)\n",
    "\n",
    "# Second run (may be faster due to query plan reuse)\n",
    "start = time.time()\n",
    "ecom_enriched.groupBy(\"customer_id\").sum(\"order_value\").collect()\n",
    "print(\"2nd run (warm-ish):\", time.time() - start)"
   ]
  },
  {
   "cell_type": "code",
   "execution_count": 0,
   "metadata": {
    "application/vnd.databricks.v1+cell": {
     "cellMetadata": {
      "byteLimit": 2048000,
      "rowLimit": 10000
     },
     "inputWidgets": {},
     "nuid": "534854e4-c519-44e7-8437-0f8fd66405ef",
     "showTitle": false,
     "tableResultSettingsMap": {},
     "title": ""
    }
   },
   "outputs": [],
   "source": [
    "# Write Country Revenue to its own folder\n",
    "country_revenue.write.mode(\"overwrite\").parquet(\n",
    "    \"dbfs:/Volumes/analytics_catalog/retail_schema/ecommerce_output/country_revenue\", compression=\"snappy\")\n",
    "\n",
    "# Write Region Summary to its own folder\n",
    "region_summary.write.mode(\"overwrite\").parquet(\n",
    "    \"dbfs:/Volumes/analytics_catalog/retail_schema/ecommerce_output/region_summary\", compression=\"snappy\")\n",
    "\n",
    "# Write Top Customer to its own folder\n",
    "top_customer.write.mode(\"overwrite\").parquet(\n",
    "    \"dbfs:/Volumes/analytics_catalog/retail_schema/ecommerce_output/top_customer\", compression=\"snappy\")"
   ]
  },
  {
   "cell_type": "code",
   "execution_count": 0,
   "metadata": {
    "application/vnd.databricks.v1+cell": {
     "cellMetadata": {},
     "inputWidgets": {},
     "nuid": "56301afd-8017-496e-a6ab-75e13b305940",
     "showTitle": false,
     "tableResultSettingsMap": {},
     "title": ""
    }
   },
   "outputs": [],
   "source": []
  }
 ],
 "metadata": {
  "application/vnd.databricks.v1+notebook": {
   "computePreferences": null,
   "dashboards": [],
   "environmentMetadata": {
    "base_environment": "",
    "environment_version": "2"
   },
   "inputWidgetPreferences": null,
   "language": "python",
   "notebookMetadata": {
    "mostRecentlyExecutedCommandWithImplicitDF": {
     "commandId": 6992001267153255,
     "dataframes": [
      "_sqldf"
     ]
    },
    "pythonIndentUnit": 4
   },
   "notebookName": "Pyspark Project",
   "widgets": {}
  },
  "language_info": {
   "name": "python"
  }
 },
 "nbformat": 4,
 "nbformat_minor": 0
}
